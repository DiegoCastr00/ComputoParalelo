{
 "cells": [
  {
   "cell_type": "code",
   "execution_count": 2,
   "metadata": {},
   "outputs": [],
   "source": [
    "from multiprocessing import Pool\n",
    "import numpy as np\n",
    "\n",
    "def nivelacion_cargas(D, n_p):\n",
    "    s = len(D) % n_p\n",
    "    t = int((len(D) - s) / n_p)\n",
    "    out = []\n",
    "    for i in range(n_p):\n",
    "        if i < s:\n",
    "            out.append(D[i * t + i:i * t + i + t + 1])            \n",
    "        else:\n",
    "            out.append(D[i * t + s:i * t + s + t])\n",
    "    return out\n",
    "\n",
    "_func = None\n",
    "\n",
    "def worker_init(func):\n",
    "    global _func\n",
    "    _func = func  \n",
    "\n",
    "def worker(x):\n",
    "    return _func(x)\n",
    "\n",
    "def evaluador(func, datos, num_procesadores, processes=None):\n",
    "    nivel_cargas = nivelacion_cargas(D=datos, n_p=num_procesadores)\n",
    "    print(\"Nivelacion de cargas ->\", nivel_cargas)\n",
    "    resultado = []\n",
    "    with Pool(processes, initializer=worker_init, initargs=(func,)) as p: \n",
    "        for element in nivel_cargas:\n",
    "            resultado.append(p.map(worker, element))\n",
    "        return [items for mini_lista in resultado for items in mini_lista]"
   ]
  },
  {
   "cell_type": "code",
   "execution_count": 6,
   "metadata": {},
   "outputs": [
    {
     "name": "stdout",
     "output_type": "stream",
     "text": [
      "Nivelacion de cargas -> [range(1, 2), range(2, 3), range(3, 4), range(4, 5), range(5, 6), range(6, 7), range(7, 8), range(8, 9), range(9, 10), range(10, 10)]\n"
     ]
    },
    {
     "name": "stdout",
     "output_type": "stream",
     "text": [
      "Resultado -> [40.5, 77.0, 103.5, 114.0, 102.5, 63.0, -10.5, -124.0, -283.5] \n",
      "\n",
      "Nivelacion de cargas -> [array([1, 8, 3, 1, 4, 8, 7, 7, 6, 1, 7, 5, 1, 4, 9, 2, 6, 5, 8, 5, 3, 6,\n",
      "       6, 9, 2, 4, 5, 3, 5, 6, 3, 2, 8, 2]), array([9, 3, 8, 3, 1, 5, 3, 5, 9, 9, 4, 7, 3, 7, 6, 9, 9, 7, 3, 8, 2, 4,\n",
      "       4, 3, 4, 9, 7, 6, 5, 7, 6, 9, 9]), array([9, 8, 6, 5, 2, 1, 2, 2, 1, 5, 2, 2, 6, 1, 1, 8, 6, 3, 5, 5, 7, 8,\n",
      "       3, 4, 3, 7, 4, 3, 9, 8, 4, 7, 3])]\n",
      "Resultado -> [2, 32832, 252, 2, 1040, 32832, 16856, 16856, 7812, 2, 16856, 3150, 2, 1040, 59130, 36, 7812, 3150, 32832, 3150, 252, 7812, 7812, 59130, 36, 1040, 3150, 252, 3150, 7812, 252, 36, 32832, 36, 59130, 252, 32832, 252, 2, 3150, 252, 3150, 59130, 59130, 1040, 16856, 252, 16856, 7812, 59130, 59130, 16856, 252, 32832, 36, 1040, 1040, 252, 1040, 59130, 16856, 7812, 3150, 16856, 7812, 59130, 59130, 59130, 32832, 7812, 3150, 36, 2, 36, 36, 2, 3150, 36, 36, 7812, 2, 2, 32832, 7812, 252, 3150, 3150, 16856, 32832, 252, 1040, 252, 16856, 1040, 252, 59130, 32832, 1040, 16856, 252] \n",
      "\n"
     ]
    }
   ],
   "source": [
    "datos = range(1,10)\n",
    "funcion = lambda x: x ** 2 + 40 * x+ x/2 - x ** 3\n",
    "num_procesadores = 10\n",
    "print(\"Resultado ->\",evaluador(func= funcion, datos= datos, num_procesadores=num_procesadores), \"\\n\")\n",
    "\n",
    "limite_inferior = 1\n",
    "limite_superior = 10\n",
    "tamano = 100\n",
    "datos = np.random.randint(limite_inferior,limite_superior,tamano)\n",
    "funcion = lambda x: x ** 2 + x ** 3 * x * x\n",
    "num_procesadores = 3\n",
    "print(\"Resultado ->\",evaluador(func= funcion, datos= datos, num_procesadores=num_procesadores), \"\\n\")"
   ]
  }
 ],
 "metadata": {
  "kernelspec": {
   "display_name": "Python 3",
   "language": "python",
   "name": "python3"
  },
  "language_info": {
   "codemirror_mode": {
    "name": "ipython",
    "version": 3
   },
   "file_extension": ".py",
   "mimetype": "text/x-python",
   "name": "python",
   "nbconvert_exporter": "python",
   "pygments_lexer": "ipython3",
   "version": "3.10.12"
  }
 },
 "nbformat": 4,
 "nbformat_minor": 2
}
