{
 "cells": [
  {
   "cell_type": "code",
   "execution_count": 99,
   "metadata": {},
   "outputs": [],
   "source": [
    "from multiprocessing import Pool\n",
    "import numpy as np\n",
    "\n",
    "def nivelacion_cargas(D, n_p):\n",
    "    s = len(D) % n_p\n",
    "    t = int((len(D) - s) / n_p)\n",
    "    out = []\n",
    "    for i in range(n_p):\n",
    "        if i < s:\n",
    "            out.append(D[i * t + i:i * t + i + t + 1])            \n",
    "        else:\n",
    "            out.append(D[i * t + s:i * t + s + t])\n",
    "    return out\n",
    "\n",
    "_func = None\n",
    "\n",
    "def worker_init(func):\n",
    "    global _func\n",
    "    _func = func  \n",
    "\n",
    "def worker(x):\n",
    "    return _func(x)\n",
    "\n",
    "def evaluador(func, datos, num_procesadores, processes=None):\n",
    "    nivel_cargas = nivelacion_cargas(D=datos, n_p=num_procesadores)\n",
    "    print(\"Nivelacion de cargas ->\", nivel_cargas)\n",
    "    resultado = []\n",
    "    with Pool(processes, initializer=worker_init, initargs=(func,)) as p: \n",
    "        for element in nivel_cargas:\n",
    "            resultado.append(p.map(worker, element))\n",
    "        return [items for mini_lista in resultado for items in mini_lista]"
   ]
  },
  {
   "cell_type": "code",
   "execution_count": 100,
   "metadata": {},
   "outputs": [
    {
     "name": "stdout",
     "output_type": "stream",
     "text": [
      "Nivelacion de cargas -> [range(1, 2), range(2, 3), range(3, 4), range(4, 5), range(5, 6), range(6, 7), range(7, 8), range(8, 9), range(9, 10), range(10, 10)]\n",
      "Resultado -> [1, 4, 9, 16, 25, 36, 49, 64, 81] \n",
      "\n",
      "Nivelacion de cargas -> [array([9, 7, 1, 2, 5, 6, 6, 3, 7, 8, 7, 2, 1, 5, 1, 9, 9, 5, 4, 6, 1, 9,\n",
      "       1, 9, 4, 6, 1, 4, 2, 6, 9, 1, 5, 2]), array([5, 6, 7, 8, 1, 3, 9, 3, 1, 9, 2, 9, 9, 9, 2, 3, 2, 2, 2, 5, 3, 5,\n",
      "       4, 3, 9, 8, 5, 3, 7, 2, 2, 1, 7]), array([1, 4, 9, 4, 5, 7, 2, 4, 5, 6, 8, 8, 9, 7, 2, 1, 6, 9, 8, 9, 7, 5,\n",
      "       4, 6, 8, 4, 6, 2, 7, 8, 3, 5, 6])]\n",
      "Resultado -> [81, 49, 1, 4, 25, 36, 36, 9, 49, 64, 49, 4, 1, 25, 1, 81, 81, 25, 16, 36, 1, 81, 1, 81, 16, 36, 1, 16, 4, 36, 81, 1, 25, 4, 25, 36, 49, 64, 1, 9, 81, 9, 1, 81, 4, 81, 81, 81, 4, 9, 4, 4, 4, 25, 9, 25, 16, 9, 81, 64, 25, 9, 49, 4, 4, 1, 49, 1, 16, 81, 16, 25, 49, 4, 16, 25, 36, 64, 64, 81, 49, 4, 1, 36, 81, 64, 81, 49, 25, 16, 36, 64, 16, 36, 4, 49, 64, 9, 25, 36] \n",
      "\n"
     ]
    }
   ],
   "source": [
    "datos = range(1,10)\n",
    "funcion = lambda x: x ** 2\n",
    "num_procesadores = 10\n",
    "print(\"Resultado ->\",evaluador(func= funcion, datos= datos, num_procesadores=num_procesadores), \"\\n\")\n",
    "\n",
    "limite_inferior = 1\n",
    "limite_superior = 10\n",
    "tamano = 100\n",
    "datos = np.random.randint(limite_inferior,limite_superior,tamano)\n",
    "funcion = lambda x: x ** 2\n",
    "num_procesadores = 3\n",
    "print(\"Resultado ->\",evaluador(func= funcion, datos= datos, num_procesadores=num_procesadores), \"\\n\")"
   ]
  }
 ],
 "metadata": {
  "kernelspec": {
   "display_name": "Python 3",
   "language": "python",
   "name": "python3"
  },
  "language_info": {
   "codemirror_mode": {
    "name": "ipython",
    "version": 3
   },
   "file_extension": ".py",
   "mimetype": "text/x-python",
   "name": "python",
   "nbconvert_exporter": "python",
   "pygments_lexer": "ipython3",
   "version": "3.10.12"
  }
 },
 "nbformat": 4,
 "nbformat_minor": 2
}
