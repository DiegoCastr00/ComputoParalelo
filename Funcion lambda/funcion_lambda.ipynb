{
 "cells": [
  {
   "cell_type": "code",
   "execution_count": 9,
   "metadata": {},
   "outputs": [],
   "source": [
    "from multiprocess import Pool\n",
    "import numpy as np\n",
    "from time import time\n",
    "\n",
    "def nivelacion_cargas(D, n_p):\n",
    "    s=len(D)%n_p\n",
    "    t=int((len(D)-s)/n_p)\n",
    "    out=[]\n",
    "    for i in range(n_p):\n",
    "        if i<s:\n",
    "            out.append(D[i*t+i:i*t+i+t+1])            \n",
    "        else:\n",
    "            out.append(D[i*t+s:i*t+s+t])\n",
    "    return out\n",
    "\n",
    "def evaluador(datos, num_procesadores,funcion_lambda):\n",
    "    t = time()\n",
    "    nivel_cargas = nivelacion_cargas(D=datos, n_p=num_procesadores)\n",
    "    #print(\"Nivelacion de cargas ->\", nivel_cargas)\n",
    "    with Pool(num_procesadores) as pool:\n",
    "        resultados = pool.map(funcion_lambda, nivel_cargas)\n",
    "    \n",
    "    resultado = [items for mini_lista in resultados for items in mini_lista]    \n",
    "    tiempo_total = time() - t    \n",
    "    return resultado, tiempo_total"
   ]
  },
  {
   "cell_type": "code",
   "execution_count": 10,
   "metadata": {},
   "outputs": [],
   "source": [
    "from time import time\n",
    "import numpy as np\n",
    "def nivelacion_cargas(D, n_p):\n",
    "    s=len(D)%n_p\n",
    "    t=int((len(D)-s)/n_p)\n",
    "    out=[]\n",
    "    for i in range(n_p):\n",
    "        if i<s:\n",
    "            out.append(D[i*t+i:i*t+i+t+1])            \n",
    "        else:\n",
    "            out.append(D[i*t+s:i*t+s+t])\n",
    "    return out\n",
    "\n",
    "def evaluador_sin_pool(datos,num_procesadores, funcion_lambda):\n",
    "    t = time()\n",
    "    nivel_cargas = nivelacion_cargas(D=datos, n_p=num_procesadores)\n",
    "   # print(\"Nivelacion de cargas ->\", nivel_cargas)\n",
    "    for i in range(num_procesadores):\n",
    "        nivel_cargas[i] = list(map(funcion_lambda,nivel_cargas[i]))\n",
    "    \n",
    "    resultado = [items for mini_lista in nivel_cargas for items in mini_lista]\n",
    "    tiempo_total = time() - t\n",
    "    return resultado, tiempo_total"
   ]
  },
  {
   "cell_type": "markdown",
   "metadata": {},
   "source": [
    "<div class=\"alert alert-danger\">\n",
    "  Unicamente funciona con <strong>numpy.array</strong>.\n",
    "</div>\n",
    "\n"
   ]
  },
  {
   "cell_type": "code",
   "execution_count": 20,
   "metadata": {},
   "outputs": [
    {
     "name": "stdout",
     "output_type": "stream",
     "text": [
      "tiempo CON Pool -> 1.3922948837280273 segundos\n",
      "tiempo Sin Pool -> 2.127730131149292 segundos\n"
     ]
    }
   ],
   "source": [
    "datos = np.array(range(1,9000000))\n",
    "funcion = lambda x: x**2\n",
    "num_procesadores = 4\n",
    "\n",
    "resultado, tiempo_total = evaluador(datos=datos,num_procesadores=num_procesadores, funcion_lambda=funcion)\n",
    "print(\"tiempo CON Pool ->\", tiempo_total, \"segundos\")\n",
    "\n",
    "resultado, tiempo_total = evaluador_sin_pool(datos=datos,num_procesadores=num_procesadores, funcion_lambda=funcion)\n",
    "print(\"tiempo Sin Pool ->\", tiempo_total, \"segundos\")"
   ]
  },
  {
   "cell_type": "code",
   "execution_count": 24,
   "metadata": {},
   "outputs": [
    {
     "name": "stdout",
     "output_type": "stream",
     "text": [
      "tiempo CON Pool -> 6.167167901992798 segundos\n",
      "tiempo Sin Pool -> 34.4207763671875 segundos\n"
     ]
    }
   ],
   "source": [
    "limite_inferior = 1\n",
    "limite_superior = 50000000\n",
    "tamano = 50000000\n",
    "datos = np.random.randint(limite_inferior, limite_superior, tamano)\n",
    "funcion = lambda x: x ** 2 + x/2 - x**3\n",
    "num_procesadores = 4\n",
    "\n",
    "resultado, tiempo_total = evaluador(datos=datos,num_procesadores=num_procesadores, funcion_lambda=funcion)\n",
    "print(\"tiempo CON Pool ->\", tiempo_total, \"segundos\")\n",
    "\n",
    "resultado, tiempo_total = evaluador_sin_pool(datos=datos,num_procesadores=num_procesadores, funcion_lambda=funcion)\n",
    "print(\"tiempo Sin Pool ->\", tiempo_total, \"segundos\")"
   ]
  },
  {
   "cell_type": "code",
   "execution_count": 27,
   "metadata": {},
   "outputs": [
    {
     "name": "stdout",
     "output_type": "stream",
     "text": [
      "tiempo CON Pool -> 6.549313545227051 segundos\n"
     ]
    },
    {
     "name": "stderr",
     "output_type": "stream",
     "text": [
      "C:\\Users\\Khoss\\AppData\\Local\\Temp\\ipykernel_11456\\760930659.py:5: RuntimeWarning: overflow encountered in scalar subtract\n",
      "  funcion = lambda x: x ** 2 - x**3 - x * 2 + x**4 - x/6\n",
      "C:\\Users\\Khoss\\AppData\\Local\\Temp\\ipykernel_11456\\760930659.py:5: RuntimeWarning: overflow encountered in scalar add\n",
      "  funcion = lambda x: x ** 2 - x**3 - x * 2 + x**4 - x/6\n"
     ]
    },
    {
     "name": "stdout",
     "output_type": "stream",
     "text": [
      "tiempo Sin Pool -> 64.36558437347412 segundos\n"
     ]
    }
   ],
   "source": [
    "limite_inferior = 1\n",
    "limite_superior = 50000000\n",
    "tamano = 50000000\n",
    "datos = np.random.randint(limite_inferior, limite_superior, tamano)\n",
    "funcion = lambda x: x ** 2 - x**3 - x * 2 + x**4 - x/6\n",
    "num_procesadores = 4\n",
    "\n",
    "resultado, tiempo_total = evaluador(datos=datos,num_procesadores=num_procesadores, funcion_lambda=funcion)\n",
    "print(\"tiempo CON Pool ->\", tiempo_total, \"segundos\")\n",
    "\n",
    "resultado, tiempo_total = evaluador_sin_pool(datos=datos,num_procesadores=num_procesadores, funcion_lambda=funcion)\n",
    "print(\"tiempo Sin Pool ->\", tiempo_total, \"segundos\")"
   ]
  }
 ],
 "metadata": {
  "kernelspec": {
   "display_name": "Python 3",
   "language": "python",
   "name": "python3"
  },
  "language_info": {
   "codemirror_mode": {
    "name": "ipython",
    "version": 3
   },
   "file_extension": ".py",
   "mimetype": "text/x-python",
   "name": "python",
   "nbconvert_exporter": "python",
   "pygments_lexer": "ipython3",
   "version": "3.10.10"
  }
 },
 "nbformat": 4,
 "nbformat_minor": 2
}
