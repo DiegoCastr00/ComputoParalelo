{
 "cells": [
  {
   "cell_type": "code",
   "execution_count": 1,
   "metadata": {},
   "outputs": [],
   "source": [
    "from multiprocess import Pool\n",
    "import numpy as np\n",
    "from time import time\n",
    "\n",
    "def nivelacion_cargas(D, n_p):\n",
    "    s=len(D)%n_p\n",
    "    t=int((len(D)-s)/n_p)\n",
    "    out=[]\n",
    "    for i in range(n_p):\n",
    "        if i<s:\n",
    "            out.append(D[i*t+i:i*t+i+t+1])            \n",
    "        else:\n",
    "            out.append(D[i*t+s:i*t+s+t])\n",
    "    return out\n",
    "\n",
    "def evaluador(datos, num_procesadores,funcion_lambda):\n",
    "    t = time()\n",
    "    nivel_cargas = nivelacion_cargas(D=datos, n_p=num_procesadores)\n",
    "    #print(\"Nivelacion de cargas ->\", nivel_cargas)\n",
    "    with Pool(num_procesadores) as pool:\n",
    "        resultados = pool.map(funcion_lambda, nivel_cargas)\n",
    "    \n",
    "    resultado = [items for mini_lista in resultados for items in mini_lista]    \n",
    "    tiempo_total = time() - t    \n",
    "    return resultado, tiempo_total"
   ]
  },
  {
   "cell_type": "code",
   "execution_count": 2,
   "metadata": {},
   "outputs": [],
   "source": [
    "from time import time\n",
    "import numpy as np\n",
    "def nivelacion_cargas(D, n_p):\n",
    "    s=len(D)%n_p\n",
    "    t=int((len(D)-s)/n_p)\n",
    "    out=[]\n",
    "    for i in range(n_p):\n",
    "        if i<s:\n",
    "            out.append(D[i*t+i:i*t+i+t+1])            \n",
    "        else:\n",
    "            out.append(D[i*t+s:i*t+s+t])\n",
    "    return out\n",
    "\n",
    "def evaluador_sin_pool(datos,num_procesadores, funcion_lambda):\n",
    "    t = time()\n",
    "    nivel_cargas = nivelacion_cargas(D=datos, n_p=num_procesadores)\n",
    "   # print(\"Nivelacion de cargas ->\", nivel_cargas)\n",
    "    for i in range(num_procesadores):\n",
    "        nivel_cargas[i] = list(map(funcion_lambda,nivel_cargas[i]))\n",
    "    \n",
    "    resultado = [items for mini_lista in nivel_cargas for items in mini_lista]\n",
    "    tiempo_total = time() - t\n",
    "    return resultado, tiempo_total\n",
    "\n",
    "datos = np.array(range(1,1000000))\n",
    "funcion = lambda x: x ** 2\n",
    "num_procesadores = 4\n"
   ]
  },
  {
   "cell_type": "code",
   "execution_count": 3,
   "metadata": {},
   "outputs": [
    {
     "name": "stdout",
     "output_type": "stream",
     "text": [
      "tiempo CON Pool -> 0.28226685523986816 segundos\n",
      "tiempo Sin Pool -> 0.635998010635376 segundos\n"
     ]
    }
   ],
   "source": [
    "datos = np.array(range(1,1000000))\n",
    "funcion = lambda x: x ** 2 + x ** 3\n",
    "num_procesadores = 4\n",
    "\n",
    "resultado, tiempo_total = evaluador(datos=datos,num_procesadores=num_procesadores, funcion_lambda=funcion)\n",
    "print(\"tiempo CON Pool ->\", tiempo_total, \"segundos\")\n",
    "\n",
    "resultado, tiempo_total = evaluador_sin_pool(datos=datos,num_procesadores=num_procesadores, funcion_lambda=funcion)\n",
    "print(\"tiempo Sin Pool ->\", tiempo_total, \"segundos\")"
   ]
  },
  {
   "cell_type": "code",
   "execution_count": 4,
   "metadata": {},
   "outputs": [
    {
     "name": "stdout",
     "output_type": "stream",
     "text": [
      "tiempo CON Pool -> 12.081230401992798 segundos\n",
      "tiempo Sin Pool -> 24.652419328689575 segundos\n"
     ]
    }
   ],
   "source": [
    "limite_inferior = 1\n",
    "limite_superior = 50001\n",
    "tamano = 50000000\n",
    "datos = np.random.randint(limite_inferior, limite_superior, tamano)\n",
    "funcion = lambda x: x ** 2 + x ** 3\n",
    "num_procesadores = 4\n",
    "\n",
    "resultado, tiempo_total = evaluador(datos=datos,num_procesadores=num_procesadores, funcion_lambda=funcion)\n",
    "print(\"tiempo CON Pool ->\", tiempo_total, \"segundos\")\n",
    "\n",
    "resultado, tiempo_total = evaluador_sin_pool(datos=datos,num_procesadores=num_procesadores, funcion_lambda=funcion)\n",
    "print(\"tiempo Sin Pool ->\", tiempo_total, \"segundos\")"
   ]
  }
 ],
 "metadata": {
  "kernelspec": {
   "display_name": "Python 3",
   "language": "python",
   "name": "python3"
  },
  "language_info": {
   "codemirror_mode": {
    "name": "ipython",
    "version": 3
   },
   "file_extension": ".py",
   "mimetype": "text/x-python",
   "name": "python",
   "nbconvert_exporter": "python",
   "pygments_lexer": "ipython3",
   "version": "3.10.12"
  }
 },
 "nbformat": 4,
 "nbformat_minor": 2
}
