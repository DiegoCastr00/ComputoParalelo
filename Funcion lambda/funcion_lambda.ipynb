{
 "cells": [
  {
   "cell_type": "code",
   "execution_count": 25,
   "metadata": {},
   "outputs": [],
   "source": [
    "def nivelacion_cargas(D, n_p):\n",
    "    s=len(D)%n_p\n",
    "    t=int((len(D)-s)/n_p)\n",
    "    out=[]\n",
    "    for i in range(n_p):\n",
    "        if i<s:\n",
    "            out.append(D[i*t+i:i*t+i+t+1])            \n",
    "        else:\n",
    "            out.append(D[i*t+s:i*t+s+t])\n",
    "    return out\n",
    "\n",
    "def evaluador(rango,num_procesadores, funcion_lambda):\n",
    "    nivel_cargas = nivelacion_cargas(D=rango, n_p=num_procesadores)\n",
    "    print(\"Nivelacion de cargas ->\", nivel_cargas)\n",
    "    for i in range(num_procesadores):\n",
    "        nivel_cargas[i] = list(map(funcion_lambda,nivel_cargas[i]))\n",
    "    return nivel_cargas\n"
   ]
  },
  {
   "cell_type": "code",
   "execution_count": 26,
   "metadata": {},
   "outputs": [
    {
     "name": "stdout",
     "output_type": "stream",
     "text": [
      "Nivelacion de cargas -> [[1, 2, 3, 4], [5, 6, 7], [8, 9, 10]]\n",
      "Resultado -> [[1, 4, 9, 16], [25, 36, 49], [64, 81, 100]] \n",
      "\n",
      "Nivelacion de cargas -> [range(0, 2), range(2, 4), range(4, 6), range(6, 8), range(8, 10)]\n",
      "Resultado -> [[0, 1], [8, 27], [64, 125], [216, 343], [512, 729]] \n",
      "\n"
     ]
    }
   ],
   "source": [
    "\n",
    "rango = list(range(1,11))\n",
    "num_procesadores = 3\n",
    "funcion_lambda = lambda x: x**2\n",
    "\n",
    "print(\"Resultado ->\", evaluador(rango=rango,num_procesadores=num_procesadores, funcion_lambda= funcion_lambda), \"\\n\")\n",
    "\n",
    "rango = range(10)\n",
    "num_procesadores = 5\n",
    "funcion_lambda = lambda x: x**3\n",
    "print(\"Resultado ->\", evaluador(rango=rango,num_procesadores=num_procesadores, funcion_lambda= funcion_lambda), \"\\n\")"
   ]
  }
 ],
 "metadata": {
  "kernelspec": {
   "display_name": "Python 3",
   "language": "python",
   "name": "python3"
  },
  "language_info": {
   "codemirror_mode": {
    "name": "ipython",
    "version": 3
   },
   "file_extension": ".py",
   "mimetype": "text/x-python",
   "name": "python",
   "nbconvert_exporter": "python",
   "pygments_lexer": "ipython3",
   "version": "3.10.10"
  }
 },
 "nbformat": 4,
 "nbformat_minor": 2
}
