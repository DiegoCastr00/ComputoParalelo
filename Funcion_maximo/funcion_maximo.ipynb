{
 "cells": [
  {
   "cell_type": "code",
   "execution_count": 35,
   "metadata": {},
   "outputs": [],
   "source": [
    "def nivelacion_cargas(D, n_p):\n",
    "    s=len(D)%n_p\n",
    "    t=int((len(D)-s)/n_p)\n",
    "    out=[]\n",
    "    for i in range(n_p):\n",
    "        if i<s:\n",
    "            out.append(D[i*t+i:i*t+i+t+1])            \n",
    "        else:\n",
    "            out.append(D[i*t+s:i*t+s+t])\n",
    "    return out\n",
    "\n",
    "def maximo(lista):\n",
    "    maximo = lista[0]\n",
    "    for i in lista:\n",
    "        if i > maximo:\n",
    "            maximo = i\n",
    "    return maximo\n",
    "\n",
    "def evaluador(rango,num_procesadores):\n",
    "    nivel_cargas = nivelacion_cargas(D=rango, n_p=num_procesadores)\n",
    "    print(\"Nivelacion de cargas ->\", nivel_cargas)\n",
    "    resultados = []\n",
    "    for i in range(num_procesadores):\n",
    "        resultados.append(maximo(nivel_cargas[i]))\n",
    "        print(resultados)\n",
    "    return resultados"
   ]
  },
  {
   "cell_type": "code",
   "execution_count": 19,
   "metadata": {},
   "outputs": [],
   "source": [
    "from multiprocess import Pool\n",
    "import numpy as np\n",
    "\n",
    "def nivelacion_cargas(D, n_p):\n",
    "    s=len(D)%n_p\n",
    "    t=int((len(D)-s)/n_p)\n",
    "    out=[]\n",
    "    for i in range(n_p):\n",
    "        if i<s:\n",
    "            out.append(D[i*t+i:i*t+i+t+1])            \n",
    "        else:\n",
    "            out.append(D[i*t+s:i*t+s+t])\n",
    "    return out\n",
    "\n",
    "def maximo(lista):\n",
    "    maximo = lista[0]\n",
    "    for i in lista:\n",
    "        if i > maximo:\n",
    "            maximo = i\n",
    "    return maximo\n",
    "\n",
    "def evaluador(rango, num_procesadores):\n",
    "    nivel_cargas = nivelacion_cargas(D=rango, n_p=num_procesadores)\n",
    "    print(\"Nivelacion de cargas ->\", nivel_cargas)\n",
    "    \n",
    "    with Pool(num_procesadores) as pool:\n",
    "        resultados = pool.map(maximo, nivel_cargas)\n",
    "    \n",
    "    resultado = max(resultados)\n",
    "    return resultado"
   ]
  },
  {
   "cell_type": "code",
   "execution_count": 20,
   "metadata": {},
   "outputs": [
    {
     "name": "stdout",
     "output_type": "stream",
     "text": [
      "Nivelacion de cargas -> [array([47770, 25480,  9599, ..., 14992, 24515,  6259]), array([ 3635, 23905, 42802, ..., 21630, 17743, 13746]), array([23773, 20476, 28516, ...,  5825, 46409,  3923]), array([46349,  2882, 43638, ..., 47352, 14828, 27618]), array([49485, 47420, 24643, ...,  9081, 18087, 39435]), array([21827, 16935, 22995, ..., 47974, 19242, 41505]), array([32588, 29378, 12620, ..., 23645,  8924, 23761]), array([30452, 28679, 44151, ...,  4808, 46299, 40260]), array([40007, 19131, 48348, ..., 30700, 45733,  6189]), array([ 4304,  3204, 18582, ..., 47017, 38494,  2842])]\n",
      "Resultado -> 50000 \n",
      "\n"
     ]
    }
   ],
   "source": [
    "limite_inferior = 1\n",
    "limite_superior = 50001\n",
    "tamano = 50000\n",
    "aleatorios = np.random.randint(limite_inferior, limite_superior, tamano)\n",
    "\n",
    "num_procesadores = 10\n",
    "print(\"Resultado ->\", evaluador(rango=aleatorios,num_procesadores=num_procesadores), \"\\n\")"
   ]
  },
  {
   "cell_type": "code",
   "execution_count": 24,
   "metadata": {},
   "outputs": [
    {
     "data": {
      "text/plain": [
       "999"
      ]
     },
     "execution_count": 24,
     "metadata": {},
     "output_type": "execute_result"
    }
   ],
   "source": [
    "def maximo(lista):\n",
    "    maximo = lista[0]\n",
    "    for i in lista:\n",
    "        if i > maximo:\n",
    "            maximo = i\n",
    "    return maximo\n",
    "\n",
    "rango = list(range(1,1000))\n",
    "\n",
    "maximo(rango)"
   ]
  }
 ],
 "metadata": {
  "kernelspec": {
   "display_name": "Python 3",
   "language": "python",
   "name": "python3"
  },
  "language_info": {
   "codemirror_mode": {
    "name": "ipython",
    "version": 3
   },
   "file_extension": ".py",
   "mimetype": "text/x-python",
   "name": "python",
   "nbconvert_exporter": "python",
   "pygments_lexer": "ipython3",
   "version": "3.10.12"
  }
 },
 "nbformat": 4,
 "nbformat_minor": 2
}
