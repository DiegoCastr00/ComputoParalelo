{
 "cells": [
  {
   "cell_type": "markdown",
   "id": "8cbf90a8",
   "metadata": {},
   "source": [
    "# Ejemplos con Vectorization"
   ]
  },
  {
   "cell_type": "code",
   "execution_count": 1,
   "id": "49d1a234",
   "metadata": {},
   "outputs": [],
   "source": [
    "# Se cargan las bibliotecas necesarias\n",
    "import numpy as np\n",
    "import matplotlib.pyplot as plt\n",
    "from time import time"
   ]
  },
  {
   "cell_type": "code",
   "execution_count": 2,
   "id": "a08ab0d8",
   "metadata": {},
   "outputs": [
    {
     "name": "stdout",
     "output_type": "stream",
     "text": [
      "2147483648.0\n"
     ]
    }
   ],
   "source": [
    "# Limitante en cuanto el direccionamiento con 32 bits\n",
    "print(2**32/2)"
   ]
  },
  {
   "cell_type": "code",
   "execution_count": 3,
   "id": "0904e9d8",
   "metadata": {},
   "outputs": [],
   "source": [
    "x=np.array(2147483647, dtype=np.int32)"
   ]
  },
  {
   "cell_type": "code",
   "execution_count": 4,
   "id": "d6081acf",
   "metadata": {},
   "outputs": [
    {
     "name": "stdout",
     "output_type": "stream",
     "text": [
      "2147483648\n"
     ]
    }
   ],
   "source": [
    "print(x+1)"
   ]
  },
  {
   "cell_type": "markdown",
   "id": "b4c8a7b6",
   "metadata": {},
   "source": [
    "## Ejemplo de Vectorización: suma de dos vectores"
   ]
  },
  {
   "cell_type": "code",
   "execution_count": 67,
   "id": "6b374e8c",
   "metadata": {},
   "outputs": [
    {
     "name": "stdout",
     "output_type": "stream",
     "text": [
      "Tiempo medio y desviación estándar de cada operación:\n",
      "\n",
      "Suma: 0.04935649871826172 s +/- 0.012880779718290826 s\n",
      "Resta: 0.05253832817077637 s +/- 0.01349907450492501 s\n",
      "Multiplicación: 0.0541051197052002 s +/- 0.016283497898497517 s\n",
      "División: 0.08618959903717041 s +/- 0.0202870057308915 s\n",
      "Tiempo Total: 0.24218954563140868 s +/- 0.04793035758772029 s\n"
     ]
    }
   ],
   "source": [
    "import numpy as np\n",
    "from time import time\n",
    "\n",
    "def secuential(n):\n",
    "    \n",
    "    a = np.random.randint(255, size=n)\n",
    "    b = np.random.randint(255, size=n)\n",
    "    \n",
    "    suma_tiempo = []\n",
    "    resta_tiempo = []\n",
    "    multiplicacion_tiempo = []\n",
    "    division_tiempo = []\n",
    "    c = []\n",
    "    \n",
    "    # Operación de suma\n",
    "    t = time()\n",
    "    for i in range(len(a)):\n",
    "        c.append(a[i] + b[i])\n",
    "    suma_tiempo = time() - t\n",
    "    \n",
    "    # Operación de resta\n",
    "    t = time()\n",
    "    for i in range(len(a)):\n",
    "        c.append(a[i] - b[i])\n",
    "    resta_tiempo = time() - t\n",
    "    \n",
    "    # Operación de multiplicación\n",
    "    t = time()\n",
    "    for i in range(len(a)):\n",
    "        c.append(a[i] * b[i])\n",
    "    multiplicacion_tiempo = time() - t\n",
    "    \n",
    "    # Operación de división\n",
    "    t = time()\n",
    "    for i in range(len(a)):\n",
    "        if b[i] != 0:\n",
    "            c.append(a[i] / b[i])\n",
    "    division_tiempo = time() - t\n",
    "    \n",
    "    tiempoTotal = suma_tiempo + resta_tiempo + multiplicacion_tiempo + division_tiempo\n",
    "    \n",
    "    return suma_tiempo, resta_tiempo, multiplicacion_tiempo, division_tiempo, tiempoTotal\n",
    "\n",
    "# Se hacen 10 repeticiones\n",
    "s = []\n",
    "for i in range(100):\n",
    "    s.append(secuential(100000))\n",
    "\n",
    "means = np.mean(s, axis=0)\n",
    "stds = np.std(s, axis=0)\n",
    "\n",
    "print(\"Tiempo medio y desviación estándar de cada operación:\\n\")\n",
    "print(\"Suma:\", means[0], \"s +/-\", stds[0], \"s\")\n",
    "print(\"Resta:\", means[1], \"s +/-\", stds[1], \"s\")\n",
    "print(\"Multiplicación:\", means[2], \"s +/-\", stds[2], \"s\")\n",
    "print(\"División:\", means[3], \"s +/-\", stds[3], \"s\")\n",
    "print(\"Tiempo Total:\", means[4], \"s +/-\", stds[4], \"s\")\n"
   ]
  },
  {
   "cell_type": "code",
   "execution_count": 68,
   "id": "1089302c",
   "metadata": {},
   "outputs": [
    {
     "name": "stderr",
     "output_type": "stream",
     "text": [
      "/tmp/ipykernel_5787/3163995584.py:30: RuntimeWarning: divide by zero encountered in divide\n",
      "  c=a/b\n",
      "/tmp/ipykernel_5787/3163995584.py:30: RuntimeWarning: invalid value encountered in divide\n",
      "  c=a/b\n"
     ]
    },
    {
     "name": "stdout",
     "output_type": "stream",
     "text": [
      "Tiempo medio y desviación estándar de cada operación:\n",
      "\n",
      "Suma: 0.00033401966094970704 s +/- 0.0001051858024951034 s\n",
      "Resta: 0.00033162117004394533 s +/- 9.82778543029108e-05 s\n",
      "Multiplicación: 0.0002902460098266602 s +/- 0.0001001564173824201 s\n",
      "División: 0.0005534076690673828 s +/- 0.00015401758173083383 s\n",
      "Tiempo Total: 0.0015092945098876952 s +/- 0.0003774420155537485 s\n"
     ]
    }
   ],
   "source": [
    "# Se crea una función para realizar una rutina con vectorización\n",
    "def vectorization(n):\n",
    "    a=np.random.randint(255, size=n)\n",
    "    b=np.random.randint(255, size=n)\n",
    "\n",
    "    suma_tiempo = []\n",
    "    resta_tiempo = []\n",
    "    multiplicacion_tiempo = []\n",
    "    division_tiempo = []\n",
    "    \n",
    "    # Operación de suma\n",
    "    t=time()\n",
    "    c=a+b\n",
    "    suma_tiempo = time() - t\n",
    "    \n",
    "    # Operación de resta\n",
    "    t=time()\n",
    "    c=a-b\n",
    "    resta_tiempo = time() - t\n",
    "    \n",
    "    # Operación de Multiplicación\n",
    "    t=time()\n",
    "   \n",
    "    c=a*b\n",
    "    multiplicacion_tiempo = time() - t\n",
    "    \n",
    "    # Operación de división\n",
    "    t=time()\n",
    "    \n",
    "    c=a/b\n",
    "    division_tiempo = time() - t\n",
    "    \n",
    "    sumaTotal= suma_tiempo + resta_tiempo + multiplicacion_tiempo + division_tiempo\n",
    "    return suma_tiempo, resta_tiempo, multiplicacion_tiempo, division_tiempo, sumaTotal\n",
    "\n",
    "# Se hacen 10 repeticiones\n",
    "s=[]\n",
    "for i in range(100):\n",
    "    s.append(vectorization(100000))\n",
    "    \n",
    "\n",
    "means = np.mean(s, axis=0)\n",
    "stds = np.std(s, axis=0)\n",
    "\n",
    "print(\"Tiempo medio y desviación estándar de cada operación:\\n\")\n",
    "print(\"Suma:\", means[0], \"s +/-\", stds[0], \"s\")\n",
    "print(\"Resta:\", means[1], \"s +/-\", stds[1], \"s\")\n",
    "print(\"Multiplicación:\", means[2], \"s +/-\", stds[2], \"s\")\n",
    "print(\"División:\", means[3], \"s +/-\", stds[3], \"s\")\n",
    "print(\"Tiempo Total:\", means[4], \"s +/-\", stds[4], \"s\")"
   ]
  },
  {
   "cell_type": "code",
   "execution_count": 7,
   "id": "63a9f98d",
   "metadata": {},
   "outputs": [
    {
     "name": "stdout",
     "output_type": "stream",
     "text": [
      "0.04080486297607422\n"
     ]
    }
   ],
   "source": [
    "# Se crea una función para realizar una rutina con vectorización\n",
    "def vectorization(n):\n",
    "    a=np.random.randint(255, size=n)\n",
    "    b=np.random.randint(255, size=n)\n",
    "    # Se crea una lista para guardar el resultado\n",
    "    t=time()\n",
    "    for i in range(100):\n",
    "        c=a+b\n",
    "    return (time()-t)\n",
    "\n",
    "# Se hacen 10 repeticiones\n",
    "print(vectorization(100000))"
   ]
  }
 ],
 "metadata": {
  "kernelspec": {
   "display_name": "Python 3 (ipykernel)",
   "language": "python",
   "name": "python3"
  },
  "language_info": {
   "codemirror_mode": {
    "name": "ipython",
    "version": 3
   },
   "file_extension": ".py",
   "mimetype": "text/x-python",
   "name": "python",
   "nbconvert_exporter": "python",
   "pygments_lexer": "ipython3",
   "version": "3.10.12"
  }
 },
 "nbformat": 4,
 "nbformat_minor": 5
}
