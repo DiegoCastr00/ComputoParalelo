{
 "cells": [
  {
   "cell_type": "markdown",
   "id": "5c5876cd-9874-4cc5-a277-c4281f18873f",
   "metadata": {},
   "source": [
    "# Paralelización de la evaluación de los hiperparámetros para un clasificador tipo Random Forest"
   ]
  },
  {
   "cell_type": "markdown",
   "id": "6935f206-e376-4462-b114-2d12b81c3f1d",
   "metadata": {},
   "source": [
    "Este ejercicio se trata de evaluar un conjunto de hiperparámetros para un clasiicador tipo Random Forest.\n",
    "\n",
    "Los hiperparámetros que se se van a variar son:\n",
    "- El número de árboles (10-210) \n",
    "- El criterio para realizar la partición del conjunto de datos (entropy, gini)\n"
   ]
  },
  {
   "cell_type": "code",
   "execution_count": 1,
   "id": "7eb0f2e4-a759-4886-9264-7337820f88cc",
   "metadata": {},
   "outputs": [
    {
     "ename": "ModuleNotFoundError",
     "evalue": "No module named 'sklearn'",
     "output_type": "error",
     "traceback": [
      "\u001b[0;31m---------------------------------------------------------------------------\u001b[0m",
      "\u001b[0;31mModuleNotFoundError\u001b[0m                       Traceback (most recent call last)",
      "Cell \u001b[0;32mIn[1], line 6\u001b[0m\n\u001b[1;32m      4\u001b[0m \u001b[38;5;28;01mimport\u001b[39;00m \u001b[38;5;21;01mnumpy\u001b[39;00m \u001b[38;5;28;01mas\u001b[39;00m \u001b[38;5;21;01mnp\u001b[39;00m\n\u001b[1;32m      5\u001b[0m \u001b[38;5;28;01mimport\u001b[39;00m \u001b[38;5;21;01mmatplotlib\u001b[39;00m\u001b[38;5;21;01m.\u001b[39;00m\u001b[38;5;21;01mpyplot\u001b[39;00m \u001b[38;5;28;01mas\u001b[39;00m \u001b[38;5;21;01mplt\u001b[39;00m\n\u001b[0;32m----> 6\u001b[0m \u001b[38;5;28;01mfrom\u001b[39;00m \u001b[38;5;21;01msklearn\u001b[39;00m \u001b[38;5;28;01mimport\u001b[39;00m datasets\n\u001b[1;32m      7\u001b[0m \u001b[38;5;28;01mfrom\u001b[39;00m \u001b[38;5;21;01msklearn\u001b[39;00m\u001b[38;5;21;01m.\u001b[39;00m\u001b[38;5;21;01mensemble\u001b[39;00m \u001b[38;5;28;01mimport\u001b[39;00m RandomForestClassifier\n\u001b[1;32m      8\u001b[0m \u001b[38;5;28;01mfrom\u001b[39;00m \u001b[38;5;21;01msklearn\u001b[39;00m\u001b[38;5;21;01m.\u001b[39;00m\u001b[38;5;21;01mmodel_selection\u001b[39;00m \u001b[38;5;28;01mimport\u001b[39;00m train_test_split\n",
      "\u001b[0;31mModuleNotFoundError\u001b[0m: No module named 'sklearn'"
     ]
    }
   ],
   "source": [
    "# Import the necessary dependencies\n",
    "import multiprocess\n",
    "import time\n",
    "import numpy as np\n",
    "import matplotlib.pyplot as plt\n",
    "from sklearn import datasets\n",
    "from sklearn.ensemble import RandomForestClassifier\n",
    "from sklearn.model_selection import train_test_split\n",
    "from sklearn.metrics import accuracy_score"
   ]
  },
  {
   "cell_type": "code",
   "execution_count": null,
   "id": "d2f1a5f5-c692-473d-b875-540b9332391b",
   "metadata": {},
   "outputs": [
    {
     "name": "stdout",
     "output_type": "stream",
     "text": [
      "Cores in the computer: 12\n"
     ]
    }
   ],
   "source": [
    "# We can see the number of cores in the computer \n",
    "cores = multiprocess.cpu_count()\n",
    "print('Cores in the computer:', cores)"
   ]
  },
  {
   "cell_type": "code",
   "execution_count": 2,
   "id": "7a7c8774-d7eb-4df7-abc0-2ffe70e8c506",
   "metadata": {},
   "outputs": [],
   "source": [
    "# We create a list with the parameters to be evaluated \n",
    "hyperparameters = []\n",
    "for criterion in ['gini','entropy']:\n",
    "    for trees in range(10, 210):\n",
    "        hyperparameters.append([trees, criterion])"
   ]
  },
  {
   "cell_type": "code",
   "execution_count": 5,
   "id": "5d1a17a8-1093-4631-947c-6e981a40db4c",
   "metadata": {},
   "outputs": [],
   "source": [
    "def evaluate_set(hyperparameter_set, p_id, lock):\n",
    "    \"\"\"\n",
    "    Evaluate a set of hyperparameters\n",
    "    Args:\n",
    "    hyperparameter_set: a list with the set of hyperparameters to be evaluated\n",
    "    \"\"\"\n",
    "    import datetime\n",
    "    print('Yo soy el proceso', p_id, 'Comence a las',datetime.datetime.now())\n",
    "    from sklearn.ensemble import RandomForestClassifier\n",
    "    from sklearn import datasets\n",
    "    from sklearn.model_selection import train_test_split\n",
    "    from sklearn.metrics import accuracy_score\n",
    "    # We load the dataset, here we use 80-20 for training and testing splits\n",
    "    iris=datasets.load_iris()\n",
    "    X=iris.data\n",
    "    y=iris.target\n",
    "    # se particiona el conjunto en 80-20 para la evaluación\n",
    "    X_train, X_test, y_train, y_test = train_test_split(X, y,\n",
    "                                                        stratify=y, \n",
    "                                                        test_size=0.20)\n",
    "    for s in hyperparameter_set:\n",
    "        clf=RandomForestClassifier(n_estimators=int(s[0]), criterion=s[1])\n",
    "        clf.fit(X_train, y_train)\n",
    "        y_pred=clf.predict(X_test)\n",
    "        lock.acquire()\n",
    "        print('Accuracy en el proceso',p_id,':',accuracy_score(y_test,y_pred))\n",
    "        lock.release()"
   ]
  },
  {
   "cell_type": "code",
   "execution_count": 6,
   "id": "4e15260f-b8d5-4406-b083-a396618df423",
   "metadata": {
    "scrolled": false
   },
   "outputs": [
    {
     "name": "stdout",
     "output_type": "stream",
     "text": [
      "Program finished in 19.694532900117338 seconds\n"
     ]
    }
   ],
   "source": [
    "# Now we will evaluated with more threads\n",
    "threads=[]\n",
    "N_THREADS=8\n",
    "splits=np.split(np.array(hyperparameters), N_THREADS)\n",
    "lock=multiprocess.Lock()\n",
    "for i in range(N_THREADS-1):\n",
    "    # Se generan los hilos de procesamiento\n",
    "    threads.append(multiprocess.Process(target=evaluate_set, args=[splits[i],i, lock]))\n",
    "\n",
    "\n",
    "start_time = time.perf_counter()\n",
    "# Se lanzan a ejecución\n",
    "for thread in threads:\n",
    "    thread.start()\n",
    "\n",
    "# y se espera a que todos terminen\n",
    "for thread in threads:\n",
    "    thread.join()\n",
    "            \n",
    "finish_time = time.perf_counter()\n",
    "print(f\"Program finished in {finish_time-start_time} seconds\")"
   ]
  },
  {
   "cell_type": "code",
   "execution_count": null,
   "id": "62270a59-caf5-4c5c-b2a2-4c9836922382",
   "metadata": {},
   "outputs": [],
   "source": []
  }
 ],
 "metadata": {
  "kernelspec": {
   "display_name": "Python 3 (ipykernel)",
   "language": "python",
   "name": "python3"
  },
  "language_info": {
   "codemirror_mode": {
    "name": "ipython",
    "version": 3
   },
   "file_extension": ".py",
   "mimetype": "text/x-python",
   "name": "python",
   "nbconvert_exporter": "python",
   "pygments_lexer": "ipython3",
   "version": "3.11.9"
  }
 },
 "nbformat": 4,
 "nbformat_minor": 5
}
