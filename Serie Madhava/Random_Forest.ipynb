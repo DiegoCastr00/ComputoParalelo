{
 "cells": [
  {
   "cell_type": "markdown",
   "id": "5c5876cd-9874-4cc5-a277-c4281f18873f",
   "metadata": {},
   "source": [
    "# Paralelización de la evaluación de los hiperparámetros para un clasificador tipo Random Forest"
   ]
  },
  {
   "cell_type": "markdown",
   "id": "6935f206-e376-4462-b114-2d12b81c3f1d",
   "metadata": {},
   "source": [
    "Este ejercicio se trata de evaluar un conjunto de hiperparámetros para un clasiicador tipo Random Forest.\n",
    "\n",
    "Los hiperparámetros que se se van a variar son:\n",
    "- El número de árboles (10-210) \n",
    "- El criterio para realizar la partición del conjunto de datos (entropy, gini)\n"
   ]
  },
  {
   "cell_type": "code",
   "execution_count": 1,
   "id": "7eb0f2e4-a759-4886-9264-7337820f88cc",
   "metadata": {},
   "outputs": [],
   "source": [
    "# Import the necessary dependencies\n",
    "import multiprocess\n",
    "import time\n",
    "import numpy as np\n",
    "import matplotlib.pyplot as plt\n",
    "from sklearn import datasets\n",
    "from sklearn.ensemble import RandomForestClassifier\n",
    "from sklearn.model_selection import train_test_split\n",
    "from sklearn.metrics import accuracy_score"
   ]
  },
  {
   "cell_type": "code",
   "execution_count": 2,
   "id": "d2f1a5f5-c692-473d-b875-540b9332391b",
   "metadata": {},
   "outputs": [
    {
     "name": "stdout",
     "output_type": "stream",
     "text": [
      "Cores in the computer: 8\n"
     ]
    }
   ],
   "source": [
    "# We can see the number of cores in the computer \n",
    "cores = multiprocess.cpu_count()\n",
    "print('Cores in the computer:', cores)"
   ]
  },
  {
   "cell_type": "code",
   "execution_count": 4,
   "id": "7a7c8774-d7eb-4df7-abc0-2ffe70e8c506",
   "metadata": {},
   "outputs": [
    {
     "name": "stdout",
     "output_type": "stream",
     "text": [
      "[[10, 'gini'], [11, 'gini'], [12, 'gini'], [13, 'gini'], [14, 'gini'], [15, 'gini'], [16, 'gini'], [17, 'gini'], [18, 'gini'], [19, 'gini'], [20, 'gini'], [21, 'gini'], [22, 'gini'], [23, 'gini'], [24, 'gini'], [25, 'gini'], [26, 'gini'], [27, 'gini'], [28, 'gini'], [29, 'gini'], [30, 'gini'], [31, 'gini'], [32, 'gini'], [33, 'gini'], [34, 'gini'], [35, 'gini'], [36, 'gini'], [37, 'gini'], [38, 'gini'], [39, 'gini'], [40, 'gini'], [41, 'gini'], [42, 'gini'], [43, 'gini'], [44, 'gini'], [45, 'gini'], [46, 'gini'], [47, 'gini'], [48, 'gini'], [49, 'gini'], [50, 'gini'], [51, 'gini'], [52, 'gini'], [53, 'gini'], [54, 'gini'], [55, 'gini'], [56, 'gini'], [57, 'gini'], [58, 'gini'], [59, 'gini'], [60, 'gini'], [61, 'gini'], [62, 'gini'], [63, 'gini'], [64, 'gini'], [65, 'gini'], [66, 'gini'], [67, 'gini'], [68, 'gini'], [69, 'gini'], [70, 'gini'], [71, 'gini'], [72, 'gini'], [73, 'gini'], [74, 'gini'], [75, 'gini'], [76, 'gini'], [77, 'gini'], [78, 'gini'], [79, 'gini'], [80, 'gini'], [81, 'gini'], [82, 'gini'], [83, 'gini'], [84, 'gini'], [85, 'gini'], [86, 'gini'], [87, 'gini'], [88, 'gini'], [89, 'gini'], [90, 'gini'], [91, 'gini'], [92, 'gini'], [93, 'gini'], [94, 'gini'], [95, 'gini'], [96, 'gini'], [97, 'gini'], [98, 'gini'], [99, 'gini'], [100, 'gini'], [101, 'gini'], [102, 'gini'], [103, 'gini'], [104, 'gini'], [105, 'gini'], [106, 'gini'], [107, 'gini'], [108, 'gini'], [109, 'gini'], [110, 'gini'], [111, 'gini'], [112, 'gini'], [113, 'gini'], [114, 'gini'], [115, 'gini'], [116, 'gini'], [117, 'gini'], [118, 'gini'], [119, 'gini'], [120, 'gini'], [121, 'gini'], [122, 'gini'], [123, 'gini'], [124, 'gini'], [125, 'gini'], [126, 'gini'], [127, 'gini'], [128, 'gini'], [129, 'gini'], [130, 'gini'], [131, 'gini'], [132, 'gini'], [133, 'gini'], [134, 'gini'], [135, 'gini'], [136, 'gini'], [137, 'gini'], [138, 'gini'], [139, 'gini'], [140, 'gini'], [141, 'gini'], [142, 'gini'], [143, 'gini'], [144, 'gini'], [145, 'gini'], [146, 'gini'], [147, 'gini'], [148, 'gini'], [149, 'gini'], [150, 'gini'], [151, 'gini'], [152, 'gini'], [153, 'gini'], [154, 'gini'], [155, 'gini'], [156, 'gini'], [157, 'gini'], [158, 'gini'], [159, 'gini'], [160, 'gini'], [161, 'gini'], [162, 'gini'], [163, 'gini'], [164, 'gini'], [165, 'gini'], [166, 'gini'], [167, 'gini'], [168, 'gini'], [169, 'gini'], [170, 'gini'], [171, 'gini'], [172, 'gini'], [173, 'gini'], [174, 'gini'], [175, 'gini'], [176, 'gini'], [177, 'gini'], [178, 'gini'], [179, 'gini'], [180, 'gini'], [181, 'gini'], [182, 'gini'], [183, 'gini'], [184, 'gini'], [185, 'gini'], [186, 'gini'], [187, 'gini'], [188, 'gini'], [189, 'gini'], [190, 'gini'], [191, 'gini'], [192, 'gini'], [193, 'gini'], [194, 'gini'], [195, 'gini'], [196, 'gini'], [197, 'gini'], [198, 'gini'], [199, 'gini'], [200, 'gini'], [201, 'gini'], [202, 'gini'], [203, 'gini'], [204, 'gini'], [205, 'gini'], [206, 'gini'], [207, 'gini'], [208, 'gini'], [209, 'gini'], [10, 'entropy'], [11, 'entropy'], [12, 'entropy'], [13, 'entropy'], [14, 'entropy'], [15, 'entropy'], [16, 'entropy'], [17, 'entropy'], [18, 'entropy'], [19, 'entropy'], [20, 'entropy'], [21, 'entropy'], [22, 'entropy'], [23, 'entropy'], [24, 'entropy'], [25, 'entropy'], [26, 'entropy'], [27, 'entropy'], [28, 'entropy'], [29, 'entropy'], [30, 'entropy'], [31, 'entropy'], [32, 'entropy'], [33, 'entropy'], [34, 'entropy'], [35, 'entropy'], [36, 'entropy'], [37, 'entropy'], [38, 'entropy'], [39, 'entropy'], [40, 'entropy'], [41, 'entropy'], [42, 'entropy'], [43, 'entropy'], [44, 'entropy'], [45, 'entropy'], [46, 'entropy'], [47, 'entropy'], [48, 'entropy'], [49, 'entropy'], [50, 'entropy'], [51, 'entropy'], [52, 'entropy'], [53, 'entropy'], [54, 'entropy'], [55, 'entropy'], [56, 'entropy'], [57, 'entropy'], [58, 'entropy'], [59, 'entropy'], [60, 'entropy'], [61, 'entropy'], [62, 'entropy'], [63, 'entropy'], [64, 'entropy'], [65, 'entropy'], [66, 'entropy'], [67, 'entropy'], [68, 'entropy'], [69, 'entropy'], [70, 'entropy'], [71, 'entropy'], [72, 'entropy'], [73, 'entropy'], [74, 'entropy'], [75, 'entropy'], [76, 'entropy'], [77, 'entropy'], [78, 'entropy'], [79, 'entropy'], [80, 'entropy'], [81, 'entropy'], [82, 'entropy'], [83, 'entropy'], [84, 'entropy'], [85, 'entropy'], [86, 'entropy'], [87, 'entropy'], [88, 'entropy'], [89, 'entropy'], [90, 'entropy'], [91, 'entropy'], [92, 'entropy'], [93, 'entropy'], [94, 'entropy'], [95, 'entropy'], [96, 'entropy'], [97, 'entropy'], [98, 'entropy'], [99, 'entropy'], [100, 'entropy'], [101, 'entropy'], [102, 'entropy'], [103, 'entropy'], [104, 'entropy'], [105, 'entropy'], [106, 'entropy'], [107, 'entropy'], [108, 'entropy'], [109, 'entropy'], [110, 'entropy'], [111, 'entropy'], [112, 'entropy'], [113, 'entropy'], [114, 'entropy'], [115, 'entropy'], [116, 'entropy'], [117, 'entropy'], [118, 'entropy'], [119, 'entropy'], [120, 'entropy'], [121, 'entropy'], [122, 'entropy'], [123, 'entropy'], [124, 'entropy'], [125, 'entropy'], [126, 'entropy'], [127, 'entropy'], [128, 'entropy'], [129, 'entropy'], [130, 'entropy'], [131, 'entropy'], [132, 'entropy'], [133, 'entropy'], [134, 'entropy'], [135, 'entropy'], [136, 'entropy'], [137, 'entropy'], [138, 'entropy'], [139, 'entropy'], [140, 'entropy'], [141, 'entropy'], [142, 'entropy'], [143, 'entropy'], [144, 'entropy'], [145, 'entropy'], [146, 'entropy'], [147, 'entropy'], [148, 'entropy'], [149, 'entropy'], [150, 'entropy'], [151, 'entropy'], [152, 'entropy'], [153, 'entropy'], [154, 'entropy'], [155, 'entropy'], [156, 'entropy'], [157, 'entropy'], [158, 'entropy'], [159, 'entropy'], [160, 'entropy'], [161, 'entropy'], [162, 'entropy'], [163, 'entropy'], [164, 'entropy'], [165, 'entropy'], [166, 'entropy'], [167, 'entropy'], [168, 'entropy'], [169, 'entropy'], [170, 'entropy'], [171, 'entropy'], [172, 'entropy'], [173, 'entropy'], [174, 'entropy'], [175, 'entropy'], [176, 'entropy'], [177, 'entropy'], [178, 'entropy'], [179, 'entropy'], [180, 'entropy'], [181, 'entropy'], [182, 'entropy'], [183, 'entropy'], [184, 'entropy'], [185, 'entropy'], [186, 'entropy'], [187, 'entropy'], [188, 'entropy'], [189, 'entropy'], [190, 'entropy'], [191, 'entropy'], [192, 'entropy'], [193, 'entropy'], [194, 'entropy'], [195, 'entropy'], [196, 'entropy'], [197, 'entropy'], [198, 'entropy'], [199, 'entropy'], [200, 'entropy'], [201, 'entropy'], [202, 'entropy'], [203, 'entropy'], [204, 'entropy'], [205, 'entropy'], [206, 'entropy'], [207, 'entropy'], [208, 'entropy'], [209, 'entropy']]\n"
     ]
    }
   ],
   "source": [
    "# We create a list with the parameters to be evaluated \n",
    "hyperparameters = []\n",
    "for criterion in ['gini','entropy']:\n",
    "    for trees in range(10, 210):\n",
    "        hyperparameters.append([trees, criterion])\n",
    "        \n",
    "print(hyperparameters)"
   ]
  },
  {
   "cell_type": "code",
   "execution_count": 8,
   "id": "5d1a17a8-1093-4631-947c-6e981a40db4c",
   "metadata": {},
   "outputs": [],
   "source": [
    "def evaluate_set(hyperparameter_set, p_id, lock):\n",
    "    \"\"\"\n",
    "    Evaluate a set of hyperparameters\n",
    "    Args:\n",
    "    hyperparameter_set: a list with the set of hyperparameters to be evaluated\n",
    "    \"\"\"\n",
    "    import datetime\n",
    "    print('Yo soy el proceso', p_id, 'Comence a las',datetime.datetime.now())\n",
    "    from sklearn.ensemble import RandomForestClassifier\n",
    "    from sklearn import datasets\n",
    "    from sklearn.model_selection import train_test_split\n",
    "    from sklearn.metrics import accuracy_score\n",
    "    # We load the dataset, here we use 80-20 for training and testing splits\n",
    "    iris=datasets.load_iris()\n",
    "    X=iris.data\n",
    "    y=iris.target\n",
    "    # se particiona el conjunto en 80-20 para la evaluación\n",
    "    X_train, X_test, y_train, y_test = train_test_split(X, y,\n",
    "                                                        stratify=y, \n",
    "                                                        test_size=0.20)\n",
    "    for s in hyperparameter_set:\n",
    "        clf=RandomForestClassifier(n_estimators=int(s[0]), criterion=s[1])\n",
    "        clf.fit(X_train, y_train)\n",
    "        y_pred=clf.predict(X_test)\n",
    "        lock.acquire()\n",
    "        print('Accuracy en el proceso',p_id,':',accuracy_score(y_test,y_pred))\n",
    "        lock.release()"
   ]
  },
  {
   "cell_type": "code",
   "execution_count": 9,
   "id": "4e15260f-b8d5-4406-b083-a396618df423",
   "metadata": {
    "scrolled": false
   },
   "outputs": [
    {
     "name": "stdout",
     "output_type": "stream",
     "text": [
      "Program finished in 24.18581679998897 seconds\n"
     ]
    }
   ],
   "source": [
    "# Now we will evaluated with more threads\n",
    "if __name__ == '__main__':   \n",
    "    threads=[]\n",
    "    N_THREADS=8\n",
    "    splits=np.split(np.array(hyperparameters), N_THREADS)\n",
    "    lock=multiprocess.Lock()\n",
    "    for i in range(N_THREADS-1):\n",
    "        # Se generan los hilos de procesamiento\n",
    "        threads.append(multiprocess.Process(target=evaluate_set, args=[splits[i],i, lock]))\n",
    "\n",
    "\n",
    "    start_time = time.perf_counter()\n",
    "    # Se lanzan a ejecución\n",
    "    for thread in threads:\n",
    "        thread.start()\n",
    "\n",
    "    # y se espera a que todos terminen\n",
    "    for thread in threads:\n",
    "        thread.join()\n",
    "                \n",
    "    finish_time = time.perf_counter()\n",
    "    print(f\"Program finished in {finish_time-start_time} seconds\")"
   ]
  },
  {
   "cell_type": "code",
   "execution_count": null,
   "id": "62270a59-caf5-4c5c-b2a2-4c9836922382",
   "metadata": {},
   "outputs": [],
   "source": []
  }
 ],
 "metadata": {
  "kernelspec": {
   "display_name": "Python 3 (ipykernel)",
   "language": "python",
   "name": "python3"
  },
  "language_info": {
   "codemirror_mode": {
    "name": "ipython",
    "version": 3
   },
   "file_extension": ".py",
   "mimetype": "text/x-python",
   "name": "python",
   "nbconvert_exporter": "python",
   "pygments_lexer": "ipython3",
   "version": "3.10.10"
  }
 },
 "nbformat": 4,
 "nbformat_minor": 5
}
