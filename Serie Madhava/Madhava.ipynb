{
 "cells": [
  {
   "cell_type": "code",
   "execution_count": 1,
   "metadata": {},
   "outputs": [
    {
     "name": "stdout",
     "output_type": "stream",
     "text": [
      "Resultado total del set: -> 3.6309142171157838\n",
      "Resultado total del set: -> 0.34657319965710875\n",
      "Resultado total del set: -> 0.20273248171623354\n",
      "Resultado total del set: -> 0.14384101090762258\n",
      "Resultado total del set: -> 0.11157176393836012\n",
      "Program finished in 0.06832310800018604 seconds\n",
      "Suma total: 4.435632673335109\n"
     ]
    }
   ],
   "source": [
    "import multiprocessing \n",
    "import numpy as np\n",
    "import time\n",
    "\n",
    "def sum_parcial(arr, lock, results):\n",
    "    suma = 0\n",
    "    for n in arr:\n",
    "        denominador = 2*n + 1\n",
    "        suma += 1/denominador\n",
    "    results.append(suma)\n",
    "    lock.acquire()\n",
    "    print(f\"Resultado total del set: -> {suma}\")\n",
    "    lock.release()\n",
    "    \n",
    "N_THREADS=5\n",
    "splits = np.array_split(np.arange(1000), N_THREADS)\n",
    "\n",
    "if __name__ == '__main__':   \n",
    "    lock = multiprocessing.Lock()\n",
    "    threads = []\n",
    "    results = multiprocessing.Manager().list()\n",
    "    \n",
    "    for i in range(N_THREADS):\n",
    "        thread = multiprocessing.Process(target=sum_parcial, args=(splits[i], lock, results))\n",
    "        threads.append(thread)\n",
    "\n",
    "    start_time = time.perf_counter()\n",
    "\n",
    "    for thread in threads:\n",
    "        thread.start()\n",
    "\n",
    "    for thread in threads:\n",
    "        thread.join()\n",
    "\n",
    "    finish_time = time.perf_counter()\n",
    "\n",
    "    print(f\"Program finished in {finish_time-start_time} seconds\")\n",
    "    print(f\"Suma total: {sum(results)}\")"
   ]
  }
 ],
 "metadata": {
  "kernelspec": {
   "display_name": "Python 3",
   "language": "python",
   "name": "python3"
  },
  "language_info": {
   "codemirror_mode": {
    "name": "ipython",
    "version": 3
   },
   "file_extension": ".py",
   "mimetype": "text/x-python",
   "name": "python",
   "nbconvert_exporter": "python",
   "pygments_lexer": "ipython3",
   "version": "3.10.12"
  }
 },
 "nbformat": 4,
 "nbformat_minor": 2
}
